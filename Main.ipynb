{
 "metadata": {
  "language_info": {
   "codemirror_mode": {
    "name": "ipython",
    "version": 3
   },
   "file_extension": ".py",
   "mimetype": "text/x-python",
   "name": "python",
   "nbconvert_exporter": "python",
   "pygments_lexer": "ipython3",
   "version": "3.8.5-final"
  },
  "orig_nbformat": 2,
  "kernelspec": {
   "name": "python3",
   "display_name": "Python 3.8.5 64-bit",
   "metadata": {
    "interpreter": {
     "hash": "df0893f56f349688326838aaeea0de204df53a132722cbd565e54b24a8fec5f6"
    }
   }
  }
 },
 "nbformat": 4,
 "nbformat_minor": 2,
 "cells": [
  {
   "cell_type": "code",
   "execution_count": 3,
   "metadata": {},
   "outputs": [],
   "source": [
    "import pandas as pd"
   ]
  },
  {
   "cell_type": "code",
   "execution_count": 4,
   "metadata": {},
   "outputs": [],
   "source": [
    "df = pd.read_csv('./TCS_2010_to_2021_Daily.csv')"
   ]
  },
  {
   "cell_type": "code",
   "execution_count": 7,
   "metadata": {},
   "outputs": [
    {
     "output_type": "execute_result",
     "data": {
      "text/plain": [
       "(2762, 8)"
      ]
     },
     "metadata": {},
     "execution_count": 7
    }
   ],
   "source": [
    "df.shape"
   ]
  },
  {
   "cell_type": "code",
   "execution_count": 8,
   "metadata": {},
   "outputs": [
    {
     "output_type": "execute_result",
     "data": {
      "text/plain": [
       "       Date  DateValue   Open   High    Low  Close  Adj Close  Volume\n",
       "0     False      False  False  False  False  False      False   False\n",
       "1     False      False  False  False  False  False      False   False\n",
       "2     False      False  False  False  False  False      False   False\n",
       "3     False      False  False  False  False  False      False   False\n",
       "4     False      False  False  False  False  False      False   False\n",
       "...     ...        ...    ...    ...    ...    ...        ...     ...\n",
       "2757  False      False  False  False  False  False      False   False\n",
       "2758  False      False  False  False  False  False      False   False\n",
       "2759  False      False  False  False  False  False      False   False\n",
       "2760  False      False  False  False  False  False      False   False\n",
       "2761  False      False  False  False  False  False      False   False\n",
       "\n",
       "[2762 rows x 8 columns]"
      ],
      "text/html": "<div>\n<style scoped>\n    .dataframe tbody tr th:only-of-type {\n        vertical-align: middle;\n    }\n\n    .dataframe tbody tr th {\n        vertical-align: top;\n    }\n\n    .dataframe thead th {\n        text-align: right;\n    }\n</style>\n<table border=\"1\" class=\"dataframe\">\n  <thead>\n    <tr style=\"text-align: right;\">\n      <th></th>\n      <th>Date</th>\n      <th>DateValue</th>\n      <th>Open</th>\n      <th>High</th>\n      <th>Low</th>\n      <th>Close</th>\n      <th>Adj Close</th>\n      <th>Volume</th>\n    </tr>\n  </thead>\n  <tbody>\n    <tr>\n      <th>0</th>\n      <td>False</td>\n      <td>False</td>\n      <td>False</td>\n      <td>False</td>\n      <td>False</td>\n      <td>False</td>\n      <td>False</td>\n      <td>False</td>\n    </tr>\n    <tr>\n      <th>1</th>\n      <td>False</td>\n      <td>False</td>\n      <td>False</td>\n      <td>False</td>\n      <td>False</td>\n      <td>False</td>\n      <td>False</td>\n      <td>False</td>\n    </tr>\n    <tr>\n      <th>2</th>\n      <td>False</td>\n      <td>False</td>\n      <td>False</td>\n      <td>False</td>\n      <td>False</td>\n      <td>False</td>\n      <td>False</td>\n      <td>False</td>\n    </tr>\n    <tr>\n      <th>3</th>\n      <td>False</td>\n      <td>False</td>\n      <td>False</td>\n      <td>False</td>\n      <td>False</td>\n      <td>False</td>\n      <td>False</td>\n      <td>False</td>\n    </tr>\n    <tr>\n      <th>4</th>\n      <td>False</td>\n      <td>False</td>\n      <td>False</td>\n      <td>False</td>\n      <td>False</td>\n      <td>False</td>\n      <td>False</td>\n      <td>False</td>\n    </tr>\n    <tr>\n      <th>...</th>\n      <td>...</td>\n      <td>...</td>\n      <td>...</td>\n      <td>...</td>\n      <td>...</td>\n      <td>...</td>\n      <td>...</td>\n      <td>...</td>\n    </tr>\n    <tr>\n      <th>2757</th>\n      <td>False</td>\n      <td>False</td>\n      <td>False</td>\n      <td>False</td>\n      <td>False</td>\n      <td>False</td>\n      <td>False</td>\n      <td>False</td>\n    </tr>\n    <tr>\n      <th>2758</th>\n      <td>False</td>\n      <td>False</td>\n      <td>False</td>\n      <td>False</td>\n      <td>False</td>\n      <td>False</td>\n      <td>False</td>\n      <td>False</td>\n    </tr>\n    <tr>\n      <th>2759</th>\n      <td>False</td>\n      <td>False</td>\n      <td>False</td>\n      <td>False</td>\n      <td>False</td>\n      <td>False</td>\n      <td>False</td>\n      <td>False</td>\n    </tr>\n    <tr>\n      <th>2760</th>\n      <td>False</td>\n      <td>False</td>\n      <td>False</td>\n      <td>False</td>\n      <td>False</td>\n      <td>False</td>\n      <td>False</td>\n      <td>False</td>\n    </tr>\n    <tr>\n      <th>2761</th>\n      <td>False</td>\n      <td>False</td>\n      <td>False</td>\n      <td>False</td>\n      <td>False</td>\n      <td>False</td>\n      <td>False</td>\n      <td>False</td>\n    </tr>\n  </tbody>\n</table>\n<p>2762 rows × 8 columns</p>\n</div>"
     },
     "metadata": {},
     "execution_count": 8
    }
   ],
   "source": [
    "df.isnull()"
   ]
  },
  {
   "cell_type": "code",
   "execution_count": 9,
   "metadata": {},
   "outputs": [
    {
     "output_type": "execute_result",
     "data": {
      "text/plain": [
       "Date         0\n",
       "DateValue    0\n",
       "Open         9\n",
       "High         9\n",
       "Low          9\n",
       "Close        9\n",
       "Adj Close    9\n",
       "Volume       9\n",
       "dtype: int64"
      ]
     },
     "metadata": {},
     "execution_count": 9
    }
   ],
   "source": [
    "df.isnull().sum()"
   ]
  },
  {
   "cell_type": "code",
   "execution_count": 10,
   "metadata": {},
   "outputs": [],
   "source": [
    "ModifiedDf = df.dropna()"
   ]
  },
  {
   "cell_type": "code",
   "execution_count": 11,
   "metadata": {},
   "outputs": [
    {
     "output_type": "execute_result",
     "data": {
      "text/plain": [
       "Date         0\n",
       "DateValue    0\n",
       "Open         0\n",
       "High         0\n",
       "Low          0\n",
       "Close        0\n",
       "Adj Close    0\n",
       "Volume       0\n",
       "dtype: int64"
      ]
     },
     "metadata": {},
     "execution_count": 11
    }
   ],
   "source": [
    "ModifiedDf.isnull().sum()"
   ]
  },
  {
   "cell_type": "code",
   "execution_count": 12,
   "metadata": {},
   "outputs": [],
   "source": [
    "ModifiedDf.to_csv('TCS_Modified_2010-21_Daily.csv',index=False)"
   ]
  },
  {
   "cell_type": "code",
   "execution_count": 13,
   "metadata": {},
   "outputs": [
    {
     "output_type": "stream",
     "name": "stdout",
     "text": [
      "<class 'pandas.core.frame.DataFrame'>\nInt64Index: 2753 entries, 0 to 2761\nData columns (total 8 columns):\n #   Column     Non-Null Count  Dtype  \n---  ------     --------------  -----  \n 0   Date       2753 non-null   object \n 1   DateValue  2753 non-null   int64  \n 2   Open       2753 non-null   float64\n 3   High       2753 non-null   float64\n 4   Low        2753 non-null   float64\n 5   Close      2753 non-null   float64\n 6   Adj Close  2753 non-null   float64\n 7   Volume     2753 non-null   float64\ndtypes: float64(6), int64(1), object(1)\nmemory usage: 258.1+ KB\n"
     ]
    }
   ],
   "source": [
    "ModifiedDf.info(\n",
    "    \n",
    ")"
   ]
  },
  {
   "cell_type": "code",
   "execution_count": 14,
   "metadata": {},
   "outputs": [
    {
     "output_type": "execute_result",
     "data": {
      "text/plain": [
       "         Date  DateValue        Open        High         Low       Close  \\\n",
       "0  2010-01-04      40182  377.399994  379.450012  374.524994  375.825012   \n",
       "1  2010-01-05      40183  377.500000  379.774994  373.274994  375.924988   \n",
       "2  2010-01-06      40184  375.924988  376.100006  366.500000  367.424988   \n",
       "3  2010-01-07      40185  367.750000  369.700012  355.500000  357.200012   \n",
       "4  2010-01-08      40186  358.000000  359.250000  348.250000  349.899994   \n",
       "\n",
       "    Adj Close     Volume  \n",
       "0  302.451019  1963682.0  \n",
       "1  302.531525  2014488.0  \n",
       "2  295.690979  3349176.0  \n",
       "3  287.462311  6474892.0  \n",
       "4  281.587463  6048178.0  "
      ],
      "text/html": "<div>\n<style scoped>\n    .dataframe tbody tr th:only-of-type {\n        vertical-align: middle;\n    }\n\n    .dataframe tbody tr th {\n        vertical-align: top;\n    }\n\n    .dataframe thead th {\n        text-align: right;\n    }\n</style>\n<table border=\"1\" class=\"dataframe\">\n  <thead>\n    <tr style=\"text-align: right;\">\n      <th></th>\n      <th>Date</th>\n      <th>DateValue</th>\n      <th>Open</th>\n      <th>High</th>\n      <th>Low</th>\n      <th>Close</th>\n      <th>Adj Close</th>\n      <th>Volume</th>\n    </tr>\n  </thead>\n  <tbody>\n    <tr>\n      <th>0</th>\n      <td>2010-01-04</td>\n      <td>40182</td>\n      <td>377.399994</td>\n      <td>379.450012</td>\n      <td>374.524994</td>\n      <td>375.825012</td>\n      <td>302.451019</td>\n      <td>1963682.0</td>\n    </tr>\n    <tr>\n      <th>1</th>\n      <td>2010-01-05</td>\n      <td>40183</td>\n      <td>377.500000</td>\n      <td>379.774994</td>\n      <td>373.274994</td>\n      <td>375.924988</td>\n      <td>302.531525</td>\n      <td>2014488.0</td>\n    </tr>\n    <tr>\n      <th>2</th>\n      <td>2010-01-06</td>\n      <td>40184</td>\n      <td>375.924988</td>\n      <td>376.100006</td>\n      <td>366.500000</td>\n      <td>367.424988</td>\n      <td>295.690979</td>\n      <td>3349176.0</td>\n    </tr>\n    <tr>\n      <th>3</th>\n      <td>2010-01-07</td>\n      <td>40185</td>\n      <td>367.750000</td>\n      <td>369.700012</td>\n      <td>355.500000</td>\n      <td>357.200012</td>\n      <td>287.462311</td>\n      <td>6474892.0</td>\n    </tr>\n    <tr>\n      <th>4</th>\n      <td>2010-01-08</td>\n      <td>40186</td>\n      <td>358.000000</td>\n      <td>359.250000</td>\n      <td>348.250000</td>\n      <td>349.899994</td>\n      <td>281.587463</td>\n      <td>6048178.0</td>\n    </tr>\n  </tbody>\n</table>\n</div>"
     },
     "metadata": {},
     "execution_count": 14
    }
   ],
   "source": [
    "ModifiedDf.head()"
   ]
  },
  {
   "cell_type": "code",
   "execution_count": 15,
   "metadata": {},
   "outputs": [
    {
     "output_type": "error",
     "ename": "NameError",
     "evalue": "name 'eda' is not defined",
     "traceback": [
      "\u001b[0;31m---------------------------------------------------------------------------\u001b[0m",
      "\u001b[0;31mNameError\u001b[0m                                 Traceback (most recent call last)",
      "\u001b[0;32m<ipython-input-15-eaf6a5581b43>\u001b[0m in \u001b[0;36m<module>\u001b[0;34m\u001b[0m\n\u001b[0;32m----> 1\u001b[0;31m \u001b[0meda\u001b[0m\u001b[0;34m(\u001b[0m\u001b[0mModifiedDf\u001b[0m\u001b[0;34m)\u001b[0m\u001b[0;34m\u001b[0m\u001b[0;34m\u001b[0m\u001b[0m\n\u001b[0m",
      "\u001b[0;31mNameError\u001b[0m: name 'eda' is not defined"
     ]
    }
   ],
   "source": [
    "eda(ModifiedDf)\n"
   ]
  },
  {
   "cell_type": "code",
   "execution_count": 22,
   "metadata": {},
   "outputs": [
    {
     "output_type": "error",
     "ename": "SyntaxError",
     "evalue": "invalid syntax (<ipython-input-22-9d98894e3856>, line 1)",
     "traceback": [
      "\u001b[0;36m  File \u001b[0;32m\"<ipython-input-22-9d98894e3856>\"\u001b[0;36m, line \u001b[0;32m1\u001b[0m\n\u001b[0;31m    pip3 install missingno\u001b[0m\n\u001b[0m         ^\u001b[0m\n\u001b[0;31mSyntaxError\u001b[0m\u001b[0;31m:\u001b[0m invalid syntax\n"
     ]
    }
   ],
   "source": [
    "import pandas as pd\n",
    "import numpy as np\n",
    "import matplotlib\n",
    "import matplotlib.pyplot as plt\n",
    "import seaborn as sns"
   ]
  },
  {
   "cell_type": "code",
   "execution_count": 19,
   "metadata": {},
   "outputs": [
    {
     "output_type": "stream",
     "name": "stdout",
     "text": [
      "/bin/bash: pip: command not found\n"
     ]
    },
    {
     "output_type": "error",
     "ename": "ModuleNotFoundError",
     "evalue": "No module named 'missingno'",
     "traceback": [
      "\u001b[0;31m---------------------------------------------------------------------------\u001b[0m",
      "\u001b[0;31mModuleNotFoundError\u001b[0m                       Traceback (most recent call last)",
      "\u001b[0;32m<ipython-input-19-052edd61888a>\u001b[0m in \u001b[0;36m<module>\u001b[0;34m\u001b[0m\n\u001b[1;32m      5\u001b[0m \u001b[0;32mimport\u001b[0m \u001b[0mmatplotlib\u001b[0m\u001b[0;34m.\u001b[0m\u001b[0mpyplot\u001b[0m \u001b[0;32mas\u001b[0m \u001b[0mplt\u001b[0m\u001b[0;34m\u001b[0m\u001b[0;34m\u001b[0m\u001b[0m\n\u001b[1;32m      6\u001b[0m \u001b[0;32mimport\u001b[0m \u001b[0mseaborn\u001b[0m \u001b[0;32mas\u001b[0m \u001b[0msns\u001b[0m\u001b[0;34m\u001b[0m\u001b[0;34m\u001b[0m\u001b[0m\n\u001b[0;32m----> 7\u001b[0;31m \u001b[0;32mimport\u001b[0m \u001b[0mmissingno\u001b[0m\u001b[0;34m\u001b[0m\u001b[0;34m\u001b[0m\u001b[0m\n\u001b[0m\u001b[1;32m      8\u001b[0m \u001b[0;32mimport\u001b[0m \u001b[0mwarnings\u001b[0m\u001b[0;34m\u001b[0m\u001b[0;34m\u001b[0m\u001b[0m\n\u001b[1;32m      9\u001b[0m \u001b[0mwarnings\u001b[0m\u001b[0;34m.\u001b[0m\u001b[0mfilterwarnings\u001b[0m\u001b[0;34m(\u001b[0m\u001b[0;34m\"ignore\"\u001b[0m\u001b[0;34m)\u001b[0m\u001b[0;34m\u001b[0m\u001b[0;34m\u001b[0m\u001b[0m\n",
      "\u001b[0;31mModuleNotFoundError\u001b[0m: No module named 'missingno'"
     ]
    }
   ],
   "source": [
    "\n",
    "import missingno\n",
    "import warnings\n",
    "warnings.filterwarnings(\"ignore\")\n",
    "%matplotlib inline\n",
    "\n",
    "        \n",
    "def time_series_plot(df):\n",
    "    \"\"\"Given dataframe, generate times series plot of numeric data by daily, monthly and yearly frequency\"\"\"\n",
    "    print(\"\\nTo check time series of numeric data  by daily, monthly and yearly frequency\")\n",
    "    if len(df.select_dtypes(include='datetime64').columns)>0:\n",
    "        for col in df.select_dtypes(include='datetime64').columns:\n",
    "            for p in ['D', 'M', 'Y']:\n",
    "                if p=='D':\n",
    "                    print(\"Plotting daily data\")\n",
    "                elif p=='M':\n",
    "                    print(\"Plotting monthly data\")\n",
    "                else:\n",
    "                    print(\"Plotting yearly data\")\n",
    "                for col_num in df.select_dtypes(include=np.number).columns:\n",
    "                    __ = df.copy()\n",
    "                    __ = __.set_index(col)\n",
    "                    __T = __.resample(p).sum()\n",
    "                    ax = __T[[col_num]].plot()\n",
    "                    ax.set_ylim(bottom=0)\n",
    "                    ax.get_yaxis().set_major_formatter(\n",
    "                    matplotlib.ticker.FuncFormatter(lambda x, p: format(int(x), ',')))\n",
    "                    plt.show()\n",
    "\n",
    "                    \n",
    "def numeric_eda(df, hue=None):\n",
    "    \"\"\"Given dataframe, generate EDA of numeric data\"\"\"\n",
    "    print(\"\\nTo check: \\nDistribution of numeric data\")\n",
    "    display(df.describe().T)\n",
    "    columns = df.select_dtypes(include=np.number).columns\n",
    "    figure = plt.figure(figsize=(20, 10))\n",
    "    figure.add_subplot(1, len(columns), 1)\n",
    "    for index, col in enumerate(columns):\n",
    "        if index > 0:\n",
    "            figure.add_subplot(1, len(columns), index + 1)\n",
    "        sns.boxplot(y=col, data=df, boxprops={'facecolor': 'None'})\n",
    "    figure.tight_layout()\n",
    "    plt.show()\n",
    "    \n",
    "    if len(df.select_dtypes(include='category').columns) > 0:\n",
    "        for col_num in df.select_dtypes(include=np.number).columns:\n",
    "            for col in df.select_dtypes(include='category').columns:\n",
    "                fig = sns.catplot(x=col, y=col_num, kind='violin', data=df, height=5, aspect=2)\n",
    "                fig.set_xticklabels(rotation=90)\n",
    "                plt.show()\n",
    "    \n",
    "    # Plot the pairwise joint distributions\n",
    "    print(\"\\nTo check pairwise joint distribution of numeric data\")\n",
    "    if hue==None:\n",
    "        sns.pairplot(df.select_dtypes(include=np.number))\n",
    "    else:\n",
    "        sns.pairplot(df.select_dtypes(include=np.number).join(df[[hue]]), hue=hue)\n",
    "    plt.show()\n",
    "\n",
    "\n",
    "def top5(df):\n",
    "    \"\"\"Given dataframe, generate top 5 unique values for non-numeric data\"\"\"\n",
    "    columns = df.select_dtypes(include=['object', 'category']).columns\n",
    "    for col in columns:\n",
    "        print(\"Top 5 unique values of \" + col)\n",
    "        print(df[col].value_counts().reset_index().rename(columns={\"index\": col, col: \"Count\"})[\n",
    "              :min(5, len(df[col].value_counts()))])\n",
    "        print(\" \")\n",
    "    \n",
    "    \n",
    "def categorical_eda(df, hue=None):\n",
    "    \"\"\"Given dataframe, generate EDA of categorical data\"\"\"\n",
    "    print(\"\\nTo check: \\nUnique count of non-numeric data\\n\")\n",
    "    print(df.select_dtypes(include=['object', 'category']).nunique())\n",
    "    top5(df)\n",
    "    # Plot count distribution of categorical data\n",
    "    for col in df.select_dtypes(include='category').columns:\n",
    "        fig = sns.catplot(x=col, kind=\"count\", data=df, hue=hue)\n",
    "        fig.set_xticklabels(rotation=90)\n",
    "        plt.show()\n",
    "    \n",
    "\n",
    "def eda(df):\n",
    "    \"\"\"Given dataframe, generate exploratory data analysis\"\"\"\n",
    "    # check that input is pandas dataframe\n",
    "    if type(df) != pd.core.frame.DataFrame:\n",
    "        raise TypeError(\"Only pandas dataframe is allowed as input\")\n",
    "        \n",
    "    # replace field that's entirely space (or empty) with NaN\n",
    "    df = df.replace(r'^\\s*$', np.nan, regex=True)\n",
    "\n",
    "    print(\"Preview of data:\")\n",
    "    display(df.head(3))\n",
    "\n",
    "    print(\"\\nTo check: \\n (1) Total number of entries \\n (2) Column types \\n (3) Any null values\\n\")\n",
    "    print(df.info())\n",
    "\n",
    "    # generate preview of entries with null values\n",
    "    if df.isnull().any(axis=None):\n",
    "        print(\"\\nPreview of data with null values:\")\n",
    "        display(df[df.isnull().any(axis=1)].head(3))\n",
    "        missingno.matrix(df)\n",
    "        plt.show()\n",
    "\n",
    "    # generate count statistics of duplicate entries\n",
    "    if len(df[df.duplicated()]) > 0:\n",
    "        print(\"\\n***Number of duplicated entries: \", len(df[df.duplicated()]))\n",
    "        display(df[df.duplicated(keep=False)].sort_values(by=list(df.columns)).head())\n",
    "    else:\n",
    "        print(\"\\nNo duplicated entries found\")\n",
    "\n",
    "    # EDA of categorical data\n",
    "    categorical_eda(df)\n",
    "    \n",
    "    # EDA of numeric data\n",
    "    numeric_eda(df)\n",
    "        \n",
    "    # Plot time series plot of numeric data\n",
    "    time_series_plot(df)"
   ]
  },
  {
   "cell_type": "code",
   "execution_count": 17,
   "metadata": {},
   "outputs": [
    {
     "output_type": "error",
     "ename": "NameError",
     "evalue": "name 'eda' is not defined",
     "traceback": [
      "\u001b[0;31m---------------------------------------------------------------------------\u001b[0m",
      "\u001b[0;31mNameError\u001b[0m                                 Traceback (most recent call last)",
      "\u001b[0;32m<ipython-input-17-eaf6a5581b43>\u001b[0m in \u001b[0;36m<module>\u001b[0;34m\u001b[0m\n\u001b[0;32m----> 1\u001b[0;31m \u001b[0meda\u001b[0m\u001b[0;34m(\u001b[0m\u001b[0mModifiedDf\u001b[0m\u001b[0;34m)\u001b[0m\u001b[0;34m\u001b[0m\u001b[0;34m\u001b[0m\u001b[0m\n\u001b[0m",
      "\u001b[0;31mNameError\u001b[0m: name 'eda' is not defined"
     ]
    }
   ],
   "source": [
    "eda(ModifiedDf)"
   ]
  },
  {
   "cell_type": "code",
   "execution_count": null,
   "metadata": {},
   "outputs": [],
   "source": []
  }
 ]
}